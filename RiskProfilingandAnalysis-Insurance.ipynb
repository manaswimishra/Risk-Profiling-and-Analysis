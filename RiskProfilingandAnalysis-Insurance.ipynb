{
 "cells": [
  {
   "cell_type": "markdown",
   "metadata": {},
   "source": [
    "# Insurace Risk Analysis Project\n",
    "\n",
    "In this project, I have used 2017 data to build a model for finding out probability of customers to ask for a claim in future (2018), along with severity of their claim in USD amount and then create Risk profile based on their probability of asking for a claim.\n",
    "\n",
    "A glossary for the datasets is provided below:\n",
    "\n",
    "* pol_number: policy number for the insurance policy\n",
    "* pol_eff_dt auto insurance policy effective date\n",
    "* gender gender of driver: F, M\n",
    "* agecat driver's age category: 1 (youngest), 2, 3, 4, 5, 6\n",
    "* date_of_birth driver's date of birth\n",
    "* credit_score driver’s credit score(integer): 1-100, 1=poor, 100=excellent\n",
    "* area driver's area of residence: A, B, C, D, E, F\n",
    "* traffic_index traffic index of driver’s area of residence(integer): 100=country average, >100 means worse traffic conditions than average\n",
    "* veh_age age of vehicle(categorical): 1 (youngest), 2, 3, 4\n",
    "* veh_body vehicle body, coded as:\n",
    "                                    BUS\n",
    "                                    CONVT = convertible\n",
    "                                    COUPE\n",
    "                                    HBACK = hatchback\n",
    "                                    HDTOP = hardtop\n",
    "                                    MCARA = motorized caravan\n",
    "                                    MIBUS = minibus\n",
    "                                    PANVN = panel van\n",
    "                                    RDSTR = roadster\n",
    "                                    SEDAN\n",
    "                                    STNWG = station wagon\n",
    "                                    TRUCK\n",
    "                                    UTE = utility\n",
    "* veh_value vehicle value, in dollar 10,000\n",
    "* smonths_insured number of months vehicle insurance is bought(integer)\n",
    "* claim_office office location of claim handling agent: A, B, C, D\n",
    "* numclaims number of claims(integer): 0 if no claim\n",
    "* claimcst0 claim amount: 0 if no claim\n",
    "* annual_premium total charged premium"
   ]
  },
  {
   "cell_type": "code",
   "execution_count": null,
   "metadata": {},
   "outputs": [],
   "source": [
    "from sklearn.ensemble import RandomForestRegressor\n",
    "from sklearn.ensemble import GradientBoostingRegressor\n",
    "from sklearn.ensemble import GradientBoostingClassifier\n",
    "from sklearn.model_selection import StratifiedKFold, GridSearchCV, train_test_split\n",
    "from sklearn.linear_model import LogisticRegression\n",
    "from sklearn.metrics import roc_auc_score, roc_curve, auc, mean_squared_error, r2_score, classification_report\n",
    "\n",
    "import pandas as pd\n",
    "import numpy as np\n",
    "import matplotlib.pyplot as plt\n",
    "import datetime as datetime\n",
    "import seaborn as sns\n",
    "import seaborn as sns\n",
    "import math\n",
    "\n",
    "\n",
    "df_2017=pd.read_csv(\"Data/policies_2017.csv\",parse_dates=True)\n",
    "df_2018=pd.read_csv(\"Data/potential_customers_2018.csv\",parse_dates=True)"
   ]
  },
  {
   "cell_type": "code",
   "execution_count": 2,
   "metadata": {},
   "outputs": [
    {
     "data": {
      "text/html": [
       "<div>\n",
       "<style scoped>\n",
       "    .dataframe tbody tr th:only-of-type {\n",
       "        vertical-align: middle;\n",
       "    }\n",
       "\n",
       "    .dataframe tbody tr th {\n",
       "        vertical-align: top;\n",
       "    }\n",
       "\n",
       "    .dataframe thead th {\n",
       "        text-align: right;\n",
       "    }\n",
       "</style>\n",
       "<table border=\"1\" class=\"dataframe\">\n",
       "  <thead>\n",
       "    <tr style=\"text-align: right;\">\n",
       "      <th></th>\n",
       "      <th>pol_number</th>\n",
       "      <th>pol_eff_dt</th>\n",
       "      <th>gender</th>\n",
       "      <th>agecat</th>\n",
       "      <th>date_of_birth</th>\n",
       "      <th>credit_score</th>\n",
       "      <th>area</th>\n",
       "      <th>traffic_index</th>\n",
       "      <th>veh_age</th>\n",
       "      <th>veh_body</th>\n",
       "      <th>veh_value</th>\n",
       "      <th>claim_office</th>\n",
       "      <th>numclaims</th>\n",
       "      <th>claimcst0</th>\n",
       "      <th>annual_premium</th>\n",
       "    </tr>\n",
       "  </thead>\n",
       "  <tbody>\n",
       "    <tr>\n",
       "      <th>0</th>\n",
       "      <td>64080188</td>\n",
       "      <td>7/10/2017</td>\n",
       "      <td>M</td>\n",
       "      <td>2.0</td>\n",
       "      <td>1/4/1989</td>\n",
       "      <td>631.0</td>\n",
       "      <td>B</td>\n",
       "      <td>140.9</td>\n",
       "      <td>4</td>\n",
       "      <td>TRUCK</td>\n",
       "      <td>0.924</td>\n",
       "      <td>NaN</td>\n",
       "      <td>0</td>\n",
       "      <td>0.000000</td>\n",
       "      <td>716.53</td>\n",
       "    </tr>\n",
       "    <tr>\n",
       "      <th>1</th>\n",
       "      <td>18917133</td>\n",
       "      <td>7/31/2017</td>\n",
       "      <td>M</td>\n",
       "      <td>2.0</td>\n",
       "      <td>6/21/1985</td>\n",
       "      <td>531.0</td>\n",
       "      <td>C</td>\n",
       "      <td>136.5</td>\n",
       "      <td>3</td>\n",
       "      <td>HBACK</td>\n",
       "      <td>1.430</td>\n",
       "      <td>B</td>\n",
       "      <td>1</td>\n",
       "      <td>583.010876</td>\n",
       "      <td>716.53</td>\n",
       "    </tr>\n",
       "    <tr>\n",
       "      <th>2</th>\n",
       "      <td>82742606</td>\n",
       "      <td>2/1/2017</td>\n",
       "      <td>M</td>\n",
       "      <td>6.0</td>\n",
       "      <td>7/25/1942</td>\n",
       "      <td>838.0</td>\n",
       "      <td>D</td>\n",
       "      <td>88.8</td>\n",
       "      <td>3</td>\n",
       "      <td>SEDAN</td>\n",
       "      <td>1.100</td>\n",
       "      <td>D</td>\n",
       "      <td>1</td>\n",
       "      <td>159.375757</td>\n",
       "      <td>716.53</td>\n",
       "    </tr>\n",
       "    <tr>\n",
       "      <th>3</th>\n",
       "      <td>43601997</td>\n",
       "      <td>10/17/2017</td>\n",
       "      <td>M</td>\n",
       "      <td>5.0</td>\n",
       "      <td>6/8/1959</td>\n",
       "      <td>835.0</td>\n",
       "      <td>E</td>\n",
       "      <td>NaN</td>\n",
       "      <td>2</td>\n",
       "      <td>SEDAN</td>\n",
       "      <td>2.090</td>\n",
       "      <td>NaN</td>\n",
       "      <td>0</td>\n",
       "      <td>0.000000</td>\n",
       "      <td>716.53</td>\n",
       "    </tr>\n",
       "    <tr>\n",
       "      <th>4</th>\n",
       "      <td>58746861</td>\n",
       "      <td>4/13/2017</td>\n",
       "      <td>F</td>\n",
       "      <td>4.0</td>\n",
       "      <td>5/16/1967</td>\n",
       "      <td>748.0</td>\n",
       "      <td>C</td>\n",
       "      <td>123.0</td>\n",
       "      <td>3</td>\n",
       "      <td>HBACK</td>\n",
       "      <td>0.803</td>\n",
       "      <td>C</td>\n",
       "      <td>1</td>\n",
       "      <td>143.555642</td>\n",
       "      <td>716.53</td>\n",
       "    </tr>\n",
       "  </tbody>\n",
       "</table>\n",
       "</div>"
      ],
      "text/plain": [
       "   pol_number  pol_eff_dt gender  agecat date_of_birth  credit_score area  \\\n",
       "0    64080188   7/10/2017      M     2.0      1/4/1989         631.0    B   \n",
       "1    18917133   7/31/2017      M     2.0     6/21/1985         531.0    C   \n",
       "2    82742606    2/1/2017      M     6.0     7/25/1942         838.0    D   \n",
       "3    43601997  10/17/2017      M     5.0      6/8/1959         835.0    E   \n",
       "4    58746861   4/13/2017      F     4.0     5/16/1967         748.0    C   \n",
       "\n",
       "   traffic_index  veh_age veh_body  veh_value claim_office  numclaims  \\\n",
       "0          140.9        4    TRUCK      0.924          NaN          0   \n",
       "1          136.5        3    HBACK      1.430            B          1   \n",
       "2           88.8        3    SEDAN      1.100            D          1   \n",
       "3            NaN        2    SEDAN      2.090          NaN          0   \n",
       "4          123.0        3    HBACK      0.803            C          1   \n",
       "\n",
       "    claimcst0  annual_premium  \n",
       "0    0.000000          716.53  \n",
       "1  583.010876          716.53  \n",
       "2  159.375757          716.53  \n",
       "3    0.000000          716.53  \n",
       "4  143.555642          716.53  "
      ]
     },
     "execution_count": 2,
     "metadata": {},
     "output_type": "execute_result"
    }
   ],
   "source": [
    "df_2017.head()"
   ]
  },
  {
   "cell_type": "markdown",
   "metadata": {},
   "source": [
    "# EDA"
   ]
  },
  {
   "cell_type": "code",
   "execution_count": 3,
   "metadata": {},
   "outputs": [
    {
     "data": {
      "image/png": "[encoded data removed]",
      "text/plain": [
       "<matplotlib.figure.Figure at 0x111a81b38>"
      ]
     },
     "metadata": {},
     "output_type": "display_data"
    }
   ],
   "source": [
    "pd.DataFrame.hist(df_2017, figsize = [15,15]);\n"
   ]
  },
  {
   "cell_type": "code",
   "execution_count": 4,
   "metadata": {},
   "outputs": [
    {
     "data": {
      "image/png": "[encoded data removed]",
      "text/plain": [
       "<matplotlib.figure.Figure at 0x1a186a44a8>"
      ]
     },
     "metadata": {},
     "output_type": "display_data"
    }
   ],
   "source": [
    "# Plotting Coorelation Matrix to see if there is any correlation\n",
    "df_num = df_2017.select_dtypes(include = ['float64', 'int64'])\n",
    "cor_matrix = df_num.corr().round(2)\n",
    "fig = plt.figure(figsize=(12,12));\n",
    "sns.heatmap(cor_matrix, annot=True, center=0, cmap = sns.diverging_palette(250, 10, as_cmap=True), ax=plt.subplot(111));\n",
    "plt.show()"
   ]
  },
  {
   "cell_type": "code",
   "execution_count": 5,
   "metadata": {},
   "outputs": [
    {
     "data": {
      "image/png": "[encoded data removed]",
      "text/plain": [
       "<matplotlib.figure.Figure at 0x1a161791d0>"
      ]
     },
     "metadata": {},
     "output_type": "display_data"
    }
   ],
   "source": [
    "sns.countplot(df_2017.numclaims);\n",
    "plt.xlabel('Filed Claim');\n",
    "plt.ylabel('Number of occurrences');\n",
    "plt.show()"
   ]
  },
  {
   "cell_type": "code",
   "execution_count": 6,
   "metadata": {},
   "outputs": [
    {
     "data": {
      "image/png": "[encoded data removed]",
      "text/plain": [
       "<matplotlib.figure.Figure at 0x1a18085cc0>"
      ]
     },
     "metadata": {},
     "output_type": "display_data"
    }
   ],
   "source": [
    "#Sort by sex\n",
    "fig, (ax1, ax2) = plt.subplots(ncols=2)\n",
    "fig.set_size_inches(12,4)\n",
    "g = sns.countplot(x='gender',data=df_2017.sort_values('gender'), ax=ax1)\n",
    "title = g.set_title('Overall')\n",
    "g = sns.countplot(x='gender',data=df_2017[df_2017['numclaims']>0].sort_values('gender'), ax=ax2)\n",
    "title = g.set_title('Claims more than 0')"
   ]
  },
  {
   "cell_type": "code",
   "execution_count": 7,
   "metadata": {},
   "outputs": [
    {
     "data": {
      "image/png": "[encoded data removed]",
      "text/plain": [
       "<matplotlib.figure.Figure at 0x1a18658b38>"
      ]
     },
     "metadata": {},
     "output_type": "display_data"
    }
   ],
   "source": [
    "#Visualize Vehicle Body Type\n",
    "fig, (ax1, ax2) = plt.subplots(ncols=2)\n",
    "fig.set_size_inches(10,3)\n",
    "g = sns.countplot(x='veh_body',data=df_2017, ax=ax1)\n",
    "label = g.set_xticklabels(g.get_xticklabels(), rotation=45)\n",
    "title = g.set_title('Overall')\n",
    "g = sns.countplot(x='veh_body',data=df_2017[df_2017['numclaims']>0], ax=ax2)\n",
    "label = g.set_xticklabels(g.get_xticklabels(), rotation=45)\n",
    "title = g.set_title('Claims more than 0')"
   ]
  },
  {
   "cell_type": "code",
   "execution_count": 8,
   "metadata": {},
   "outputs": [
    {
     "data": {
      "image/png": "[encoded data removed]",
      "text/plain": [
       "<matplotlib.figure.Figure at 0x1a1e7e33c8>"
      ]
     },
     "metadata": {},
     "output_type": "display_data"
    }
   ],
   "source": [
    "#Visualize Vehicle Age\n",
    "fig, (ax1, ax2) = plt.subplots(ncols=2)\n",
    "fig.set_size_inches(10,3)\n",
    "g = sns.countplot(x='veh_age',data=df_2017, ax=ax1)\n",
    "title = g.set_title('Overall')\n",
    "g = sns.countplot(x='veh_age',data=df_2017[df_2017['numclaims']>0], ax=ax2)\n",
    "title = g.set_title('Claims more than 0')"
   ]
  },
  {
   "cell_type": "code",
   "execution_count": 9,
   "metadata": {},
   "outputs": [
    {
     "data": {
      "image/png": "[encoded data removed]",
      "text/plain": [
       "<matplotlib.figure.Figure at 0x1a180804e0>"
      ]
     },
     "metadata": {},
     "output_type": "display_data"
    }
   ],
   "source": [
    "#Visualize Driver Age\n",
    "fig, (ax1, ax2) = plt.subplots(ncols=2)\n",
    "fig.set_size_inches(10,3)\n",
    "g = sns.countplot(x='agecat',data=df_2017, ax=ax1)\n",
    "title = g.set_title('Overall')\n",
    "g = sns.countplot(x='agecat',data=df_2017[df_2017['numclaims']>0], ax=ax2)\n",
    "title = g.set_title('Claims more than 0')"
   ]
  },
  {
   "cell_type": "code",
   "execution_count": 10,
   "metadata": {
    "scrolled": true
   },
   "outputs": [
    {
     "data": {
      "image/png": "[encoded data removed]",
      "text/plain": [
       "<matplotlib.figure.Figure at 0x1108399b0>"
      ]
     },
     "metadata": {},
     "output_type": "display_data"
    }
   ],
   "source": [
    "#Make Vehicle Value categorical\n",
    "df_2017['cat_veh_value'] = df_2017['veh_value'].apply(lambda x:1 if x<=1 else 2 if x<=2 else 3 if x<=3 else 4 if x<=4 else 5)\n",
    "#Visualize Vehicle Value\n",
    "fig, (ax1, ax2) = plt.subplots(ncols=2)\n",
    "fig.set_size_inches(10,3)\n",
    "g = sns.countplot(x='cat_veh_value',data=df_2017, ax=ax1)\n",
    "title = g.set_title('Overall')\n",
    "g = sns.countplot(x='cat_veh_value',data=df_2017[df_2017['numclaims']>0], ax=ax2)\n",
    "title = g.set_title('Claims more than 0')"
   ]
  },
  {
   "cell_type": "markdown",
   "metadata": {},
   "source": [
    "# Data Prep and Cleaning"
   ]
  },
  {
   "cell_type": "code",
   "execution_count": 11,
   "metadata": {},
   "outputs": [
    {
     "data": {
      "text/plain": [
       "pol_number            0\n",
       "pol_eff_dt            0\n",
       "gender                0\n",
       "agecat             4831\n",
       "date_of_birth         0\n",
       "credit_score       2801\n",
       "area                  0\n",
       "traffic_index      3503\n",
       "veh_age               0\n",
       "veh_body              0\n",
       "veh_value             0\n",
       "claim_office      50362\n",
       "numclaims             0\n",
       "claimcst0             0\n",
       "annual_premium        0\n",
       "cat_veh_value         0\n",
       "dtype: int64"
      ]
     },
     "execution_count": 11,
     "metadata": {},
     "output_type": "execute_result"
    }
   ],
   "source": [
    "df_2017.isnull().sum()"
   ]
  },
  {
   "cell_type": "code",
   "execution_count": 12,
   "metadata": {},
   "outputs": [
    {
     "data": {
      "text/plain": [
       "array([[<matplotlib.axes._subplots.AxesSubplot object at 0x1a187ad390>]],\n",
       "      dtype=object)"
      ]
     },
     "execution_count": 12,
     "metadata": {},
     "output_type": "execute_result"
    },
    {
     "data": {
      "image/png": "[encoded data removed]",
      "text/plain": [
       "<matplotlib.figure.Figure at 0x1a186d8320>"
      ]
     },
     "metadata": {},
     "output_type": "display_data"
    }
   ],
   "source": [
    "df_2017.hist(column='credit_score')"
   ]
  },
  {
   "cell_type": "code",
   "execution_count": 13,
   "metadata": {},
   "outputs": [
    {
     "data": {
      "text/plain": [
       "array([[<matplotlib.axes._subplots.AxesSubplot object at 0x1a17ffcdd8>]],\n",
       "      dtype=object)"
      ]
     },
     "execution_count": 13,
     "metadata": {},
     "output_type": "execute_result"
    },
    {
     "data": {
      "image/png": "[encoded data removed]",
      "text/plain": [
       "<matplotlib.figure.Figure at 0x1a22e796d8>"
      ]
     },
     "metadata": {},
     "output_type": "display_data"
    }
   ],
   "source": [
    "df_2017.hist(column='traffic_index')"
   ]
  },
  {
   "cell_type": "code",
   "execution_count": 14,
   "metadata": {},
   "outputs": [],
   "source": [
    "#Function to impute missing values in 'agecat', 'credit_score' and 'traffic_index'\n",
    "def missing_value(data):\n",
    "    \n",
    "    \"\"\" Function takes in raw data and returns cleaned data, in imputing age, bins have been crosschecked with the \n",
    "    excel file. Class labels 6 = 1900-1949, 5= 1950-159, 4 =1960-1969, 3=1970-1979, 2= 1980-1989, 1=1990-1999\"\"\"\n",
    "    \n",
    "    data[\"date_of_birth\"] = pd.to_datetime(data['date_of_birth'])\n",
    "    data[\"DOB_year\"]=data.date_of_birth.dt.year\n",
    "    labels=[6,5,4,3,2,1]\n",
    "    data[\"agecat_new\"] = pd.cut(df_2017.DOB_year, bins = [1900,1949,1959,1969,1979,1989,1999],labels=labels, include_lowest=True)\n",
    "    data[\"credit_score\"] = data.groupby('agecat_new')['credit_score'].apply(lambda x: x.fillna(x.mean()))\n",
    "    data['veh_value'] = (data['veh_value']+1).apply(np.log)\n",
    "    data.traffic_index.fillna(data.traffic_index.mean(), inplace=True)\n",
    "    data.drop([\"agecat\"],axis=1,inplace=True)\n",
    "    return(data)"
   ]
  },
  {
   "cell_type": "code",
   "execution_count": 15,
   "metadata": {},
   "outputs": [],
   "source": [
    "clean_data_2017=missing_value(df_2017)\n",
    "clean_data_2018=missing_value(df_2018)"
   ]
  },
  {
   "cell_type": "code",
   "execution_count": 16,
   "metadata": {},
   "outputs": [
    {
     "data": {
      "text/plain": [
       "pol_number            0\n",
       "pol_eff_dt            0\n",
       "gender                0\n",
       "date_of_birth         0\n",
       "credit_score          0\n",
       "area                  0\n",
       "traffic_index         0\n",
       "veh_age               0\n",
       "veh_body              0\n",
       "veh_value             0\n",
       "claim_office      50362\n",
       "numclaims             0\n",
       "claimcst0             0\n",
       "annual_premium        0\n",
       "cat_veh_value         0\n",
       "DOB_year              0\n",
       "agecat_new            0\n",
       "dtype: int64"
      ]
     },
     "execution_count": 16,
     "metadata": {},
     "output_type": "execute_result"
    }
   ],
   "source": [
    "clean_data_2017.isnull().sum()"
   ]
  },
  {
   "cell_type": "code",
   "execution_count": 17,
   "metadata": {},
   "outputs": [
    {
     "data": {
      "text/plain": [
       "quote_number     0\n",
       "gender           0\n",
       "date_of_birth    0\n",
       "credit_score     0\n",
       "area             0\n",
       "traffic_index    0\n",
       "veh_age          0\n",
       "veh_body         0\n",
       "veh_value        0\n",
       "DOB_year         0\n",
       "agecat_new       0\n",
       "dtype: int64"
      ]
     },
     "execution_count": 17,
     "metadata": {},
     "output_type": "execute_result"
    }
   ],
   "source": [
    "clean_data_2018.isnull().sum()"
   ]
  },
  {
   "cell_type": "markdown",
   "metadata": {},
   "source": [
    "Comparing the distribution of Credit score and traffic index post imputing. We can observe that it looks pretty much the same."
   ]
  },
  {
   "cell_type": "code",
   "execution_count": 18,
   "metadata": {},
   "outputs": [
    {
     "data": {
      "text/plain": [
       "array([[<matplotlib.axes._subplots.AxesSubplot object at 0x1a227ed940>]],\n",
       "      dtype=object)"
      ]
     },
     "execution_count": 18,
     "metadata": {},
     "output_type": "execute_result"
    },
    {
     "data": {
      "image/png": "[encoded data removed]",
      "text/plain": [
       "<matplotlib.figure.Figure at 0x1a18e0d9b0>"
      ]
     },
     "metadata": {},
     "output_type": "display_data"
    }
   ],
   "source": [
    "clean_data_2017.hist(column='credit_score')"
   ]
  },
  {
   "cell_type": "code",
   "execution_count": 19,
   "metadata": {},
   "outputs": [
    {
     "data": {
      "text/plain": [
       "array([[<matplotlib.axes._subplots.AxesSubplot object at 0x1a18e18f60>]],\n",
       "      dtype=object)"
      ]
     },
     "execution_count": 19,
     "metadata": {},
     "output_type": "execute_result"
    },
    {
     "data": {
      "image/png": "[encoded data removed]",
      "text/plain": [
       "<matplotlib.figure.Figure at 0x1a22765048>"
      ]
     },
     "metadata": {},
     "output_type": "display_data"
    }
   ],
   "source": [
    "clean_data_2017.hist(column='traffic_index')"
   ]
  },
  {
   "cell_type": "code",
   "execution_count": 20,
   "metadata": {},
   "outputs": [
    {
     "data": {
      "text/html": [
       "<div>\n",
       "<style scoped>\n",
       "    .dataframe tbody tr th:only-of-type {\n",
       "        vertical-align: middle;\n",
       "    }\n",
       "\n",
       "    .dataframe tbody tr th {\n",
       "        vertical-align: top;\n",
       "    }\n",
       "\n",
       "    .dataframe thead th {\n",
       "        text-align: right;\n",
       "    }\n",
       "</style>\n",
       "<table border=\"1\" class=\"dataframe\">\n",
       "  <thead>\n",
       "    <tr style=\"text-align: right;\">\n",
       "      <th></th>\n",
       "      <th>gender</th>\n",
       "      <th>credit_score</th>\n",
       "      <th>area</th>\n",
       "      <th>traffic_index</th>\n",
       "      <th>veh_age</th>\n",
       "      <th>veh_body</th>\n",
       "      <th>veh_value</th>\n",
       "      <th>agecat_new</th>\n",
       "    </tr>\n",
       "  </thead>\n",
       "  <tbody>\n",
       "    <tr>\n",
       "      <th>0</th>\n",
       "      <td>F</td>\n",
       "      <td>750.0</td>\n",
       "      <td>C</td>\n",
       "      <td>124.500000</td>\n",
       "      <td>2</td>\n",
       "      <td>HBACK</td>\n",
       "      <td>0.741937</td>\n",
       "      <td>2</td>\n",
       "    </tr>\n",
       "    <tr>\n",
       "      <th>1</th>\n",
       "      <td>M</td>\n",
       "      <td>567.0</td>\n",
       "      <td>F</td>\n",
       "      <td>104.416636</td>\n",
       "      <td>3</td>\n",
       "      <td>STNWG</td>\n",
       "      <td>1.124605</td>\n",
       "      <td>2</td>\n",
       "    </tr>\n",
       "    <tr>\n",
       "      <th>2</th>\n",
       "      <td>M</td>\n",
       "      <td>378.0</td>\n",
       "      <td>D</td>\n",
       "      <td>111.400000</td>\n",
       "      <td>3</td>\n",
       "      <td>HDTOP</td>\n",
       "      <td>1.210154</td>\n",
       "      <td>6</td>\n",
       "    </tr>\n",
       "    <tr>\n",
       "      <th>3</th>\n",
       "      <td>F</td>\n",
       "      <td>807.0</td>\n",
       "      <td>E</td>\n",
       "      <td>104.416636</td>\n",
       "      <td>4</td>\n",
       "      <td>UTE</td>\n",
       "      <td>1.088225</td>\n",
       "      <td>5</td>\n",
       "    </tr>\n",
       "    <tr>\n",
       "      <th>4</th>\n",
       "      <td>M</td>\n",
       "      <td>844.0</td>\n",
       "      <td>C</td>\n",
       "      <td>111.000000</td>\n",
       "      <td>1</td>\n",
       "      <td>HBACK</td>\n",
       "      <td>1.088225</td>\n",
       "      <td>4</td>\n",
       "    </tr>\n",
       "  </tbody>\n",
       "</table>\n",
       "</div>"
      ],
      "text/plain": [
       "  gender  credit_score area  traffic_index  veh_age veh_body  veh_value  \\\n",
       "0      F         750.0    C     124.500000        2    HBACK   0.741937   \n",
       "1      M         567.0    F     104.416636        3    STNWG   1.124605   \n",
       "2      M         378.0    D     111.400000        3    HDTOP   1.210154   \n",
       "3      F         807.0    E     104.416636        4      UTE   1.088225   \n",
       "4      M         844.0    C     111.000000        1    HBACK   1.088225   \n",
       "\n",
       "  agecat_new  \n",
       "0          2  \n",
       "1          2  \n",
       "2          6  \n",
       "3          5  \n",
       "4          4  "
      ]
     },
     "execution_count": 20,
     "metadata": {},
     "output_type": "execute_result"
    }
   ],
   "source": [
    "# Removing irrelevant columns for building model\n",
    "\n",
    "data_2017=clean_data_2017.drop([\"claim_office\",\"pol_number\",\"pol_eff_dt\",\"cat_veh_value\",\"annual_premium\",\"date_of_birth\",\"DOB_year\"],axis=1)\n",
    "data_2018=clean_data_2018.drop([\"quote_number\",\"date_of_birth\",\"DOB_year\"],axis=1)\n",
    "data_2018.head()"
   ]
  },
  {
   "cell_type": "markdown",
   "metadata": {},
   "source": [
    "### Creating Dummy Variable"
   ]
  },
  {
   "cell_type": "code",
   "execution_count": 21,
   "metadata": {},
   "outputs": [],
   "source": [
    "# Dummy variable conversion using pd.dummies\n",
    "\n",
    "data_2017=pd.get_dummies(data=data_2017, columns=['gender', 'area','veh_body'],drop_first=True)\n",
    "data_2018=pd.get_dummies(data=data_2018, columns=['gender', 'area','veh_body'],drop_first=True)"
   ]
  },
  {
   "cell_type": "code",
   "execution_count": 22,
   "metadata": {},
   "outputs": [],
   "source": [
    "def claim(x):\n",
    "    \"\"\" Function converts claims above 0 to value 1,in order to creat a \n",
    "        class of 1 and 0 for those who claimed and those who did not\"\"\"\n",
    "    if x == 0:\n",
    "        return 0\n",
    "    else:\n",
    "        return 1\n",
    "    \n",
    "data_2017[\"claim\"] = data_2017[\"numclaims\"].apply(claim)"
   ]
  },
  {
   "cell_type": "code",
   "execution_count": 23,
   "metadata": {},
   "outputs": [
    {
     "data": {
      "image/png": "[encoded data removed]",
      "text/plain": [
       "<matplotlib.figure.Figure at 0x1a1800b278>"
      ]
     },
     "metadata": {},
     "output_type": "display_data"
    }
   ],
   "source": [
    "#Distribution of Claim class\n",
    "\n",
    "sns.countplot(data_2017.claim);\n",
    "plt.xlabel('Filed Claim');\n",
    "plt.ylabel('Number of occurrences');\n",
    "plt.show()"
   ]
  },
  {
   "cell_type": "markdown",
   "metadata": {},
   "source": [
    "### Since our minority class consist of 16% of the total data, we dont need to resample. We can simply use Stratefied KFold to sample it in our training and test set"
   ]
  },
  {
   "cell_type": "code",
   "execution_count": 24,
   "metadata": {},
   "outputs": [],
   "source": [
    "#Creating test and train set \n",
    "\n",
    "\n",
    "X=data_2017.drop([\"numclaims\",\"claimcst0\",\"claim\"],axis=1)\n",
    "y1=data_2017[\"claimcst0\"]\n",
    "y=data_2017[\"claim\"]\n",
    "x_test=data_2018"
   ]
  },
  {
   "cell_type": "code",
   "execution_count": 25,
   "metadata": {},
   "outputs": [
    {
     "data": {
      "text/plain": [
       "credit_score      0\n",
       "traffic_index     0\n",
       "veh_age           0\n",
       "veh_value         0\n",
       "agecat_new        0\n",
       "gender_M          0\n",
       "area_B            0\n",
       "area_C            0\n",
       "area_D            0\n",
       "area_E            0\n",
       "area_F            0\n",
       "veh_body_CONVT    0\n",
       "veh_body_COUPE    0\n",
       "veh_body_HBACK    0\n",
       "veh_body_HDTOP    0\n",
       "veh_body_MCARA    0\n",
       "veh_body_MIBUS    0\n",
       "veh_body_PANVN    0\n",
       "veh_body_RDSTR    0\n",
       "veh_body_SEDAN    0\n",
       "veh_body_STNWG    0\n",
       "veh_body_TRUCK    0\n",
       "veh_body_UTE      0\n",
       "dtype: int64"
      ]
     },
     "execution_count": 25,
     "metadata": {},
     "output_type": "execute_result"
    }
   ],
   "source": [
    "X.isnull().sum()"
   ]
  },
  {
   "cell_type": "code",
   "execution_count": null,
   "metadata": {},
   "outputs": [],
   "source": [
    "# Grid search\n",
    "logreg = LogisticRegression(class_weight='balanced')\n",
    "param = {'C': [0.001, 0.003, 0.005, 0.01, 0.03, 0.05, 0.1, 0.3, 0.5, 1]}\n",
    "clf = GridSearchCV(logreg, param, scoring='roc_auc', refit=True, cv=3, n_jobs=8)\n",
    "clf.fit(X, y)\n",
    "print('Best roc_auc: {:.4}, with best C: {}'.format(clf.best_score_, clf.best_params_['C']))"
   ]
  },
  {
   "cell_type": "code",
   "execution_count": 26,
   "metadata": {},
   "outputs": [
    {
     "name": "stdout",
     "output_type": "stream",
     "text": [
      "\n",
      "1 of kfold 10\n",
      "roc_auc_score 0.8134510504618763\n",
      "\n",
      "2 of kfold 10\n",
      "roc_auc_score 0.8144494449943795\n",
      "\n",
      "3 of kfold 10\n",
      "roc_auc_score 0.8123837383797773\n",
      "\n",
      "4 of kfold 10\n",
      "roc_auc_score 0.8187914414025595\n",
      "\n",
      "5 of kfold 10\n",
      "roc_auc_score 0.8200511650117163\n",
      "\n",
      "6 of kfold 10\n",
      "roc_auc_score 0.8103948678191003\n",
      "\n",
      "7 of kfold 10\n",
      "roc_auc_score 0.8098543923432245\n",
      "\n",
      "8 of kfold 10\n",
      "roc_auc_score 0.8038663992137961\n",
      "\n",
      "9 of kfold 10\n",
      "roc_auc_score 0.8094851664228918\n",
      "\n",
      "10 of kfold 10\n",
      "roc_auc_score 0.8138151074972066\n"
     ]
    },
    {
     "data": {
      "text/plain": [
       "Text(0.5,0,'False positive rate')"
      ]
     },
     "execution_count": 26,
     "metadata": {},
     "output_type": "execute_result"
    },
    {
     "data": {
      "image/png": "[encoded data removed]",
      "text/plain": [
       "<matplotlib.figure.Figure at 0x1a2220bbe0>"
      ]
     },
     "metadata": {},
     "output_type": "display_data"
    }
   ],
   "source": [
    "\n",
    "seed = 45\n",
    "kf = StratifiedKFold(n_splits=10, random_state=seed, shuffle=True)\n",
    "pred_test_full = 0\n",
    "cv_score = []\n",
    "i = 1\n",
    "for train_index, test_index in kf.split(X, y):\n",
    "    print('\\n{} of kfold {}'.format(i, kf.n_splits))\n",
    "    xtr, xvl = X.loc[train_index], X.loc[test_index]\n",
    "    ytr, yvl = y[train_index], y[test_index]\n",
    "\n",
    "    lr = LogisticRegression(class_weight='balanced', C=0.005)\n",
    "    lr.fit(xtr, ytr)\n",
    "    pred_test = lr.predict_proba(xvl)[:, 1]\n",
    "    score = roc_auc_score(yvl, pred_test)\n",
    "    print('roc_auc_score', score)\n",
    "    cv_score.append(score)\n",
    "    pred_test_full += lr.predict_proba(x_test)[:, 1]\n",
    "    i += 1\n",
    "\n",
    "proba = lr.predict_proba(xvl)[:, 1]\n",
    "fpr, tpr, threshold = roc_curve(yvl, proba)\n",
    "auc_val = auc(fpr, tpr)\n",
    "\n",
    "plt.figure(figsize=(14, 8))\n",
    "plt.title('Reciever Operating Charactaristics')\n",
    "plt.plot(fpr, tpr, 'b', label='AUC = %0.2f' % auc_val)\n",
    "plt.legend(loc='lower right')\n",
    "plt.plot([0, 1], [0, 1], 'r--')\n",
    "plt.ylabel('True positive rate')\n",
    "plt.xlabel('False positive rate')"
   ]
  },
  {
   "cell_type": "code",
   "execution_count": 27,
   "metadata": {},
   "outputs": [
    {
     "data": {
      "text/plain": [
       "GridSearchCV(cv=3, error_score='raise',\n",
       "       estimator=GradientBoostingClassifier(criterion='friedman_mse', init=None,\n",
       "              learning_rate=0.1, loss='deviance', max_depth=3,\n",
       "              max_features=None, max_leaf_nodes=None,\n",
       "              min_impurity_decrease=0.0, min_impurity_split=None,\n",
       "              min_samples_leaf=1, min_samples_split=2,\n",
       "              min_weight_fraction_leaf=0.0, n_estimators=100,\n",
       "              presort='auto', random_state=0, subsample=1.0, verbose=0,\n",
       "              warm_start=False),\n",
       "       fit_params=None, iid=True, n_jobs=1,\n",
       "       param_grid={'n_estimators': [100, 200], 'learning_rate': [0.1, 0.05, 0.02, 0.01], 'max_depth': [4, 6], 'min_samples_leaf': [5, 9], 'max_features': [1.0, 0.3, 0.1]},\n",
       "       pre_dispatch='2*n_jobs', refit=True, return_train_score='warn',\n",
       "       scoring='roc_auc', verbose=0)"
      ]
     },
     "execution_count": 27,
     "metadata": {},
     "output_type": "execute_result"
    }
   ],
   "source": [
    "param_grid={'n_estimators':[100,200],\n",
    "            'learning_rate': [0.1, 0.05, 0.02, 0.01],\n",
    "            'max_depth':[4,6],\n",
    "            'min_samples_leaf':[5,9], \n",
    "            'max_features':[1.0,0.3,0.1]\n",
    "           }\n",
    "            \n",
    "\n",
    "gbrt = GradientBoostingClassifier(random_state = 0)\n",
    "grid_search = GridSearchCV(gbrt, param_grid, cv=3,scoring='roc_auc')\n",
    "grid_search.fit(X, y)"
   ]
  },
  {
   "cell_type": "code",
   "execution_count": 28,
   "metadata": {},
   "outputs": [
    {
     "name": "stdout",
     "output_type": "stream",
     "text": [
      "{'learning_rate': 0.1, 'max_depth': 4, 'max_features': 0.3, 'min_samples_leaf': 5, 'n_estimators': 100}\n"
     ]
    }
   ],
   "source": [
    "print(grid_search.best_params_)"
   ]
  },
  {
   "cell_type": "code",
   "execution_count": 31,
   "metadata": {},
   "outputs": [
    {
     "name": "stdout",
     "output_type": "stream",
     "text": [
      "\n",
      "1 of kfold 10\n",
      "roc_auc_score 0.8250348220773455\n",
      "\n",
      "2 of kfold 10\n",
      "roc_auc_score 0.8266228711126894\n",
      "\n",
      "3 of kfold 10\n",
      "roc_auc_score 0.8247911151375105\n",
      "\n",
      "4 of kfold 10\n",
      "roc_auc_score 0.8253386187743363\n",
      "\n",
      "5 of kfold 10\n",
      "roc_auc_score 0.8275268515343563\n",
      "\n",
      "6 of kfold 10\n",
      "roc_auc_score 0.819064054856875\n",
      "\n",
      "7 of kfold 10\n",
      "roc_auc_score 0.826159626759119\n",
      "\n",
      "8 of kfold 10\n",
      "roc_auc_score 0.8154755352686974\n",
      "\n",
      "9 of kfold 10\n",
      "roc_auc_score 0.8177552331092505\n",
      "\n",
      "10 of kfold 10\n",
      "roc_auc_score 0.8234823923780683\n"
     ]
    },
    {
     "data": {
      "text/plain": [
       "Text(0.5,0,'False positive rate')"
      ]
     },
     "execution_count": 31,
     "metadata": {},
     "output_type": "execute_result"
    },
    {
     "data": {
      "image/png": "[encoded data removed]",
      "text/plain": [
       "<matplotlib.figure.Figure at 0x1a221cdd30>"
      ]
     },
     "metadata": {},
     "output_type": "display_data"
    }
   ],
   "source": [
    "\n",
    "seed = 45\n",
    "kf = StratifiedKFold(n_splits=10, random_state=seed, shuffle=True)\n",
    "pred_test_full = 0\n",
    "cv_score = []\n",
    "i = 1\n",
    "for train_index, test_index in kf.split(X, y):\n",
    "    print('\\n{} of kfold {}'.format(i, kf.n_splits))\n",
    "    xtr, xvl = X.loc[train_index], X.loc[test_index]\n",
    "    ytr, yvl = y[train_index], y[test_index]\n",
    "\n",
    "    gb = GradientBoostingClassifier(learning_rate=0.1,max_depth=4,max_features=0.3,min_samples_leaf=5,n_estimators=100)\n",
    "    gb.fit(xtr, ytr)\n",
    "    pred_test = gb.predict_proba(xvl)[:, 1]\n",
    "    score = roc_auc_score(yvl, pred_test)\n",
    "    print('roc_auc_score', score)\n",
    "    cv_score.append(score)\n",
    "    pred_test_full += gb.predict_proba(x_test)[:, 1]\n",
    "    i += 1\n",
    "\n",
    "proba = gb.predict_proba(xvl)[:, 1]\n",
    "fpr, tpr, threshold = roc_curve(yvl, proba)\n",
    "auc_val = auc(fpr, tpr)\n",
    "\n",
    "plt.figure(figsize=(14, 8))\n",
    "plt.title('Reciever Operating Charactaristics')\n",
    "plt.plot(fpr, tpr, 'b', label='AUC = %0.2f' % auc_val)\n",
    "plt.legend(loc='lower right')\n",
    "plt.plot([0, 1], [0, 1], 'r--')\n",
    "plt.ylabel('True positive rate')\n",
    "plt.xlabel('False positive rate')"
   ]
  },
  {
   "cell_type": "code",
   "execution_count": 32,
   "metadata": {},
   "outputs": [
    {
     "name": "stdout",
     "output_type": "stream",
     "text": [
      "             precision    recall  f1-score   support\n",
      "\n",
      "          0       0.88      0.97      0.92     50362\n",
      "          1       0.68      0.32      0.43     10030\n",
      "\n",
      "avg / total       0.84      0.86      0.84     60392\n",
      "\n"
     ]
    }
   ],
   "source": [
    "print(classification_report(y,gb.predict(X)))"
   ]
  },
  {
   "cell_type": "markdown",
   "metadata": {},
   "source": [
    "## Averaging the toatal probability got in 10 iterations"
   ]
  },
  {
   "cell_type": "code",
   "execution_count": 46,
   "metadata": {},
   "outputs": [],
   "source": [
    "y_pred=pred_test_full/10"
   ]
  },
  {
   "cell_type": "markdown",
   "metadata": {},
   "source": [
    "## Since our train data had only 16% customers who had claims, we will keep the same threshold in the test data, so if probability of class 1 thats is the class for claim is more than 0.16, we will skip that and keep the rest as customers having low probability of claim"
   ]
  },
  {
   "cell_type": "code",
   "execution_count": 47,
   "metadata": {},
   "outputs": [],
   "source": [
    "Low = pd.DataFrame({'QuoteNumber':clean_data_2018['quote_number'],'claim_prob':y_pred})\n",
    "Low['claim_low'] = Low['claim_prob'].apply(lambda x: 1 if x>0.1666 else 0)"
   ]
  },
  {
   "cell_type": "code",
   "execution_count": 48,
   "metadata": {},
   "outputs": [
    {
     "data": {
      "text/html": [
       "<div>\n",
       "<style scoped>\n",
       "    .dataframe tbody tr th:only-of-type {\n",
       "        vertical-align: middle;\n",
       "    }\n",
       "\n",
       "    .dataframe tbody tr th {\n",
       "        vertical-align: top;\n",
       "    }\n",
       "\n",
       "    .dataframe thead th {\n",
       "        text-align: right;\n",
       "    }\n",
       "</style>\n",
       "<table border=\"1\" class=\"dataframe\">\n",
       "  <thead>\n",
       "    <tr style=\"text-align: right;\">\n",
       "      <th></th>\n",
       "      <th>QuoteNumber</th>\n",
       "      <th>claim_prob</th>\n",
       "      <th>claim_low</th>\n",
       "    </tr>\n",
       "  </thead>\n",
       "  <tbody>\n",
       "    <tr>\n",
       "      <th>1</th>\n",
       "      <td>16732441</td>\n",
       "      <td>0.407652</td>\n",
       "      <td>1</td>\n",
       "    </tr>\n",
       "    <tr>\n",
       "      <th>2</th>\n",
       "      <td>68744228</td>\n",
       "      <td>0.833729</td>\n",
       "      <td>1</td>\n",
       "    </tr>\n",
       "    <tr>\n",
       "      <th>6</th>\n",
       "      <td>58572612</td>\n",
       "      <td>0.266313</td>\n",
       "      <td>1</td>\n",
       "    </tr>\n",
       "    <tr>\n",
       "      <th>11</th>\n",
       "      <td>35005918</td>\n",
       "      <td>0.310478</td>\n",
       "      <td>1</td>\n",
       "    </tr>\n",
       "    <tr>\n",
       "      <th>16</th>\n",
       "      <td>75159402</td>\n",
       "      <td>0.197873</td>\n",
       "      <td>1</td>\n",
       "    </tr>\n",
       "  </tbody>\n",
       "</table>\n",
       "</div>"
      ],
      "text/plain": [
       "    QuoteNumber  claim_prob  claim_low\n",
       "1      16732441    0.407652          1\n",
       "2      68744228    0.833729          1\n",
       "6      58572612    0.266313          1\n",
       "11     35005918    0.310478          1\n",
       "16     75159402    0.197873          1"
      ]
     },
     "execution_count": 48,
     "metadata": {},
     "output_type": "execute_result"
    }
   ],
   "source": [
    "Low[Low.claim_prob>.16].head()"
   ]
  },
  {
   "cell_type": "code",
   "execution_count": 49,
   "metadata": {},
   "outputs": [
    {
     "data": {
      "text/plain": [
       "QuoteNumber    5087\n",
       "claim_prob     5087\n",
       "claim_low      5087\n",
       "dtype: int64"
      ]
     },
     "execution_count": 49,
     "metadata": {},
     "output_type": "execute_result"
    }
   ],
   "source": [
    "#Number of cusotmer predicted as having low claims\n",
    "\n",
    "Low[Low.claim_low==0].count()"
   ]
  },
  {
   "cell_type": "code",
   "execution_count": 50,
   "metadata": {},
   "outputs": [],
   "source": [
    "# Adding probability metric to our original dataset for future use\n",
    "df_2018[\"claim\"]=Low.claim_low\n",
    "data_2018[\"claim\"]=Low.claim_low"
   ]
  },
  {
   "cell_type": "markdown",
   "metadata": {},
   "source": [
    "## Predicting Claim Severity for future with those who has probability more than 0.16 and are identified as potential customers for asking claims"
   ]
  },
  {
   "cell_type": "code",
   "execution_count": 51,
   "metadata": {},
   "outputs": [],
   "source": [
    "# creating new dataframe for regression, keeping only those who had claim in 2017, \n",
    "# and those predicted for claim in 2018\n",
    "\n",
    "claim_severity_train=data_2017[data_2017.claim>0]\n",
    "claim_severity_test=data_2018[data_2018.claim>0]"
   ]
  },
  {
   "cell_type": "markdown",
   "metadata": {},
   "source": [
    "# Creating metric for cost per claim"
   ]
  },
  {
   "cell_type": "code",
   "execution_count": 52,
   "metadata": {},
   "outputs": [
    {
     "name": "stderr",
     "output_type": "stream",
     "text": [
      "/anaconda3/lib/python3.6/site-packages/ipykernel_launcher.py:1: SettingWithCopyWarning: \n",
      "A value is trying to be set on a copy of a slice from a DataFrame.\n",
      "Try using .loc[row_indexer,col_indexer] = value instead\n",
      "\n",
      "See the caveats in the documentation: http://pandas.pydata.org/pandas-docs/stable/indexing.html#indexing-view-versus-copy\n",
      "  \"\"\"Entry point for launching an IPython kernel.\n"
     ]
    }
   ],
   "source": [
    "claim_severity_train[\"amountperclaim\"]=(claim_severity_train.claimcst0/claim_severity_train.numclaims)"
   ]
  },
  {
   "cell_type": "markdown",
   "metadata": {},
   "source": [
    "### Looking at the distribution of cost per claim amount"
   ]
  },
  {
   "cell_type": "code",
   "execution_count": 53,
   "metadata": {},
   "outputs": [
    {
     "data": {
      "text/plain": [
       "<matplotlib.axes._subplots.AxesSubplot at 0x1a237d1828>"
      ]
     },
     "execution_count": 53,
     "metadata": {},
     "output_type": "execute_result"
    },
    {
     "data": {
      "image/png": "[encoded data removed]",
      "text/plain": [
       "<matplotlib.figure.Figure at 0x1a237d1b70>"
      ]
     },
     "metadata": {},
     "output_type": "display_data"
    }
   ],
   "source": [
    "claim_severity_train.amountperclaim.hist(figsize=(8,8),bins=50)"
   ]
  },
  {
   "cell_type": "markdown",
   "metadata": {},
   "source": [
    "## Since our data is skewed,  we will do a log transform for this metric in order to remove skewness"
   ]
  },
  {
   "cell_type": "code",
   "execution_count": 54,
   "metadata": {},
   "outputs": [
    {
     "name": "stderr",
     "output_type": "stream",
     "text": [
      "/anaconda3/lib/python3.6/site-packages/ipykernel_launcher.py:1: SettingWithCopyWarning: \n",
      "A value is trying to be set on a copy of a slice from a DataFrame.\n",
      "Try using .loc[row_indexer,col_indexer] = value instead\n",
      "\n",
      "See the caveats in the documentation: http://pandas.pydata.org/pandas-docs/stable/indexing.html#indexing-view-versus-copy\n",
      "  \"\"\"Entry point for launching an IPython kernel.\n"
     ]
    },
    {
     "data": {
      "text/plain": [
       "<matplotlib.axes._subplots.AxesSubplot at 0x1a2304f828>"
      ]
     },
     "execution_count": 54,
     "metadata": {},
     "output_type": "execute_result"
    },
    {
     "data": {
      "image/png": "[encoded data removed]",
      "text/plain": [
       "<matplotlib.figure.Figure at 0x1a1879ecc0>"
      ]
     },
     "metadata": {},
     "output_type": "display_data"
    }
   ],
   "source": [
    "claim_severity_train[\"log_amount\"]=(claim_severity_train.amountperclaim+1).apply(np.log)\n",
    "claim_severity_train[\"log_amount\"].hist(figsize=(8,8),bins=50)"
   ]
  },
  {
   "cell_type": "code",
   "execution_count": 55,
   "metadata": {},
   "outputs": [],
   "source": [
    "# Creating X and Y for regression analysis\n",
    "\n",
    "X_reg=claim_severity_train.drop([\"numclaims\",\"claimcst0\",\"claim\",\"amountperclaim\",\"log_amount\"],axis=1)\n",
    "y_reg=claim_severity_train.log_amount"
   ]
  },
  {
   "cell_type": "code",
   "execution_count": 56,
   "metadata": {},
   "outputs": [
    {
     "data": {
      "text/plain": [
       "<matplotlib.axes._subplots.AxesSubplot at 0x1a2305da90>"
      ]
     },
     "execution_count": 56,
     "metadata": {},
     "output_type": "execute_result"
    },
    {
     "data": {
      "image/png": "[encoded data removed]",
      "text/plain": [
       "<matplotlib.figure.Figure at 0x1a260e9d68>"
      ]
     },
     "metadata": {},
     "output_type": "display_data"
    }
   ],
   "source": [
    "# Looking at our target variable just to see if there are any outliers\n",
    "sns.boxplot(x=y_reg)"
   ]
  },
  {
   "cell_type": "code",
   "execution_count": 57,
   "metadata": {},
   "outputs": [],
   "source": [
    "# train-test split\n",
    "\n",
    "X_regtrain, X_regtest, y_regtrain, y_regtest = train_test_split(X_reg,y_reg,random_state = 0)"
   ]
  },
  {
   "cell_type": "markdown",
   "metadata": {},
   "source": [
    "## Running Gradient Boosting with Hyperparameter Tuning"
   ]
  },
  {
   "cell_type": "code",
   "execution_count": 58,
   "metadata": {},
   "outputs": [
    {
     "data": {
      "text/plain": [
       "GridSearchCV(cv=5, error_score='raise',\n",
       "       estimator=GradientBoostingRegressor(alpha=0.9, criterion='friedman_mse', init=None,\n",
       "             learning_rate=0.1, loss='ls', max_depth=3, max_features=None,\n",
       "             max_leaf_nodes=None, min_impurity_decrease=0.0,\n",
       "             min_impurity_split=None, min_samples_leaf=1,\n",
       "             min_samples_split=2, min_weight_fraction_leaf=0.0,\n",
       "             n_estimators=100, presort='auto', random_state=0,\n",
       "             subsample=1.0, verbose=0, warm_start=False),\n",
       "       fit_params=None, iid=True, n_jobs=1,\n",
       "       param_grid={'n_estimators': [200], 'learning_rate': [0.1, 0.05, 0.02], 'max_depth': [6], 'min_samples_leaf': [3, 5], 'max_features': [1.0, 0.3, 0.1]},\n",
       "       pre_dispatch='2*n_jobs', refit=True, return_train_score='warn',\n",
       "       scoring=None, verbose=0)"
      ]
     },
     "execution_count": 58,
     "metadata": {},
     "output_type": "execute_result"
    }
   ],
   "source": [
    "param_grid={'n_estimators':[200],\n",
    "            'learning_rate': [0.1, 0.05, 0.02],\n",
    "            'max_depth':[6],\n",
    "            'min_samples_leaf':[3,5], \n",
    "            'max_features':[1.0,0.3,0.1] }\n",
    "\n",
    "gbrt = GradientBoostingRegressor(random_state = 0)\n",
    "grid_search = GridSearchCV(gbrt, param_grid, cv=5)\n",
    "grid_search.fit(X_regtrain, y_regtrain)"
   ]
  },
  {
   "cell_type": "code",
   "execution_count": 59,
   "metadata": {},
   "outputs": [
    {
     "name": "stdout",
     "output_type": "stream",
     "text": [
      "{'learning_rate': 0.05, 'max_depth': 6, 'max_features': 0.3, 'min_samples_leaf': 5, 'n_estimators': 200}\n"
     ]
    }
   ],
   "source": [
    "print(grid_search.best_params_)"
   ]
  },
  {
   "cell_type": "code",
   "execution_count": 60,
   "metadata": {},
   "outputs": [],
   "source": [
    "gbrt = GradientBoostingRegressor(learning_rate=0.05,max_depth=6,max_features=0.3,min_samples_leaf=5,n_estimators=200)\n",
    "gbrt.fit(X_regtrain, y_regtrain)\n",
    "predGB=gbrt.predict(X_regtest)"
   ]
  },
  {
   "cell_type": "code",
   "execution_count": 61,
   "metadata": {},
   "outputs": [
    {
     "name": "stdout",
     "output_type": "stream",
     "text": [
      "RSquare on test set of the model:  0.7393909364001772\n",
      "Mean Square Error of the model:  0.3592986721455435\n"
     ]
    }
   ],
   "source": [
    "print(\"RSquare on test set of the model: \",r2_score(predGB,y_regtest))\n",
    "print(\"Mean Square Error of the model: \",mean_squared_error(predGB,y_regtest))"
   ]
  },
  {
   "cell_type": "markdown",
   "metadata": {},
   "source": [
    "## Running Random Forest with Hyperparameter tuning"
   ]
  },
  {
   "cell_type": "code",
   "execution_count": 62,
   "metadata": {},
   "outputs": [
    {
     "data": {
      "text/plain": [
       "GridSearchCV(cv=5, error_score='raise',\n",
       "       estimator=RandomForestRegressor(bootstrap=True, criterion='mse', max_depth=None,\n",
       "           max_features='auto', max_leaf_nodes=None,\n",
       "           min_impurity_decrease=0.0, min_impurity_split=None,\n",
       "           min_samples_leaf=1, min_samples_split=2,\n",
       "           min_weight_fraction_leaf=0.0, n_estimators=10, n_jobs=1,\n",
       "           oob_score=False, random_state=0, verbose=0, warm_start=False),\n",
       "       fit_params=None, iid=True, n_jobs=1,\n",
       "       param_grid={'max_depth': array([5]), 'max_features': [1, 5, 10, 15], 'min_samples_split': [2, 3, 10], 'min_samples_leaf': [1, 3, 10]},\n",
       "       pre_dispatch='2*n_jobs', refit=True, return_train_score='warn',\n",
       "       scoring=None, verbose=0)"
      ]
     },
     "execution_count": 62,
     "metadata": {},
     "output_type": "execute_result"
    }
   ],
   "source": [
    "param_grid = {\"max_depth\": np.arange(5,10,20),\n",
    "              \"max_features\": [1, 5, 10,15],\n",
    "              \"min_samples_split\": [2, 3, 10],\n",
    "              \"min_samples_leaf\": [1, 3, 10]}\n",
    "\n",
    "rand = RandomForestRegressor(random_state = 0)\n",
    "grid_search = GridSearchCV(rand, param_grid, cv=5)\n",
    "grid_search.fit(X_regtrain, y_regtrain)"
   ]
  },
  {
   "cell_type": "code",
   "execution_count": 63,
   "metadata": {},
   "outputs": [
    {
     "name": "stdout",
     "output_type": "stream",
     "text": [
      "{'max_depth': 5, 'max_features': 10, 'min_samples_leaf': 3, 'min_samples_split': 10}\n"
     ]
    }
   ],
   "source": [
    "print(grid_search.best_params_)"
   ]
  },
  {
   "cell_type": "code",
   "execution_count": 64,
   "metadata": {},
   "outputs": [],
   "source": [
    "rand = RandomForestRegressor(max_depth=5, max_features=10, min_samples_split=10, min_samples_leaf=3)\n",
    "rand.fit(X_regtrain, y_regtrain)\n",
    "predRF=rand.predict(X_regtest)"
   ]
  },
  {
   "cell_type": "code",
   "execution_count": 65,
   "metadata": {},
   "outputs": [
    {
     "name": "stdout",
     "output_type": "stream",
     "text": [
      "RSquare on test set of the model:  0.31721004257289764\n",
      "Mean Square Error of the model:  0.6111384676424245\n"
     ]
    }
   ],
   "source": [
    "print(\"RSquare on test set of the model: \",r2_score(predRF,y_regtest))\n",
    "print(\"Mean Square Error of the model: \",mean_squared_error(predRF,y_regtest))"
   ]
  },
  {
   "cell_type": "markdown",
   "metadata": {},
   "source": [
    "## Gradient boosting gives us the best results with R2 of 0.73 and very low MSE, hence we will use Gradient boosting for final prediction"
   ]
  },
  {
   "cell_type": "code",
   "execution_count": 66,
   "metadata": {},
   "outputs": [],
   "source": [
    "predGB=pd.DataFrame(predGB)\n",
    "predGB=predGB.apply(np.exp)"
   ]
  },
  {
   "cell_type": "markdown",
   "metadata": {},
   "source": [
    "## Predicting Claim severity for 2018 customers"
   ]
  },
  {
   "cell_type": "code",
   "execution_count": 67,
   "metadata": {},
   "outputs": [
    {
     "data": {
      "text/html": [
       "<div>\n",
       "<style scoped>\n",
       "    .dataframe tbody tr th:only-of-type {\n",
       "        vertical-align: middle;\n",
       "    }\n",
       "\n",
       "    .dataframe tbody tr th {\n",
       "        vertical-align: top;\n",
       "    }\n",
       "\n",
       "    .dataframe thead th {\n",
       "        text-align: right;\n",
       "    }\n",
       "</style>\n",
       "<table border=\"1\" class=\"dataframe\">\n",
       "  <thead>\n",
       "    <tr style=\"text-align: right;\">\n",
       "      <th></th>\n",
       "      <th>credit_score</th>\n",
       "      <th>traffic_index</th>\n",
       "      <th>veh_age</th>\n",
       "      <th>veh_value</th>\n",
       "      <th>agecat_new</th>\n",
       "      <th>gender_M</th>\n",
       "      <th>area_B</th>\n",
       "      <th>area_C</th>\n",
       "      <th>area_D</th>\n",
       "      <th>area_E</th>\n",
       "      <th>...</th>\n",
       "      <th>veh_body_HDTOP</th>\n",
       "      <th>veh_body_MCARA</th>\n",
       "      <th>veh_body_MIBUS</th>\n",
       "      <th>veh_body_PANVN</th>\n",
       "      <th>veh_body_RDSTR</th>\n",
       "      <th>veh_body_SEDAN</th>\n",
       "      <th>veh_body_STNWG</th>\n",
       "      <th>veh_body_TRUCK</th>\n",
       "      <th>veh_body_UTE</th>\n",
       "      <th>claim</th>\n",
       "    </tr>\n",
       "  </thead>\n",
       "  <tbody>\n",
       "    <tr>\n",
       "      <th>1</th>\n",
       "      <td>567.0</td>\n",
       "      <td>104.416636</td>\n",
       "      <td>3</td>\n",
       "      <td>1.124605</td>\n",
       "      <td>2</td>\n",
       "      <td>1</td>\n",
       "      <td>0</td>\n",
       "      <td>0</td>\n",
       "      <td>0</td>\n",
       "      <td>0</td>\n",
       "      <td>...</td>\n",
       "      <td>0</td>\n",
       "      <td>0</td>\n",
       "      <td>0</td>\n",
       "      <td>0</td>\n",
       "      <td>0</td>\n",
       "      <td>0</td>\n",
       "      <td>1</td>\n",
       "      <td>0</td>\n",
       "      <td>0</td>\n",
       "      <td>1</td>\n",
       "    </tr>\n",
       "    <tr>\n",
       "      <th>2</th>\n",
       "      <td>378.0</td>\n",
       "      <td>111.400000</td>\n",
       "      <td>3</td>\n",
       "      <td>1.210154</td>\n",
       "      <td>6</td>\n",
       "      <td>1</td>\n",
       "      <td>0</td>\n",
       "      <td>0</td>\n",
       "      <td>1</td>\n",
       "      <td>0</td>\n",
       "      <td>...</td>\n",
       "      <td>1</td>\n",
       "      <td>0</td>\n",
       "      <td>0</td>\n",
       "      <td>0</td>\n",
       "      <td>0</td>\n",
       "      <td>0</td>\n",
       "      <td>0</td>\n",
       "      <td>0</td>\n",
       "      <td>0</td>\n",
       "      <td>1</td>\n",
       "    </tr>\n",
       "    <tr>\n",
       "      <th>6</th>\n",
       "      <td>647.0</td>\n",
       "      <td>156.000000</td>\n",
       "      <td>3</td>\n",
       "      <td>1.364815</td>\n",
       "      <td>3</td>\n",
       "      <td>1</td>\n",
       "      <td>0</td>\n",
       "      <td>0</td>\n",
       "      <td>0</td>\n",
       "      <td>0</td>\n",
       "      <td>...</td>\n",
       "      <td>1</td>\n",
       "      <td>0</td>\n",
       "      <td>0</td>\n",
       "      <td>0</td>\n",
       "      <td>0</td>\n",
       "      <td>0</td>\n",
       "      <td>0</td>\n",
       "      <td>0</td>\n",
       "      <td>0</td>\n",
       "      <td>1</td>\n",
       "    </tr>\n",
       "    <tr>\n",
       "      <th>11</th>\n",
       "      <td>619.0</td>\n",
       "      <td>147.000000</td>\n",
       "      <td>3</td>\n",
       "      <td>0.682592</td>\n",
       "      <td>2</td>\n",
       "      <td>1</td>\n",
       "      <td>0</td>\n",
       "      <td>1</td>\n",
       "      <td>0</td>\n",
       "      <td>0</td>\n",
       "      <td>...</td>\n",
       "      <td>0</td>\n",
       "      <td>0</td>\n",
       "      <td>0</td>\n",
       "      <td>0</td>\n",
       "      <td>0</td>\n",
       "      <td>0</td>\n",
       "      <td>0</td>\n",
       "      <td>0</td>\n",
       "      <td>0</td>\n",
       "      <td>1</td>\n",
       "    </tr>\n",
       "    <tr>\n",
       "      <th>16</th>\n",
       "      <td>328.0</td>\n",
       "      <td>86.800000</td>\n",
       "      <td>4</td>\n",
       "      <td>0.817575</td>\n",
       "      <td>3</td>\n",
       "      <td>0</td>\n",
       "      <td>0</td>\n",
       "      <td>0</td>\n",
       "      <td>0</td>\n",
       "      <td>0</td>\n",
       "      <td>...</td>\n",
       "      <td>0</td>\n",
       "      <td>0</td>\n",
       "      <td>0</td>\n",
       "      <td>0</td>\n",
       "      <td>0</td>\n",
       "      <td>0</td>\n",
       "      <td>0</td>\n",
       "      <td>0</td>\n",
       "      <td>0</td>\n",
       "      <td>1</td>\n",
       "    </tr>\n",
       "  </tbody>\n",
       "</table>\n",
       "<p>5 rows × 24 columns</p>\n",
       "</div>"
      ],
      "text/plain": [
       "    credit_score  traffic_index  veh_age  veh_value agecat_new  gender_M  \\\n",
       "1          567.0     104.416636        3   1.124605          2         1   \n",
       "2          378.0     111.400000        3   1.210154          6         1   \n",
       "6          647.0     156.000000        3   1.364815          3         1   \n",
       "11         619.0     147.000000        3   0.682592          2         1   \n",
       "16         328.0      86.800000        4   0.817575          3         0   \n",
       "\n",
       "    area_B  area_C  area_D  area_E  ...    veh_body_HDTOP  veh_body_MCARA  \\\n",
       "1        0       0       0       0  ...                 0               0   \n",
       "2        0       0       1       0  ...                 1               0   \n",
       "6        0       0       0       0  ...                 1               0   \n",
       "11       0       1       0       0  ...                 0               0   \n",
       "16       0       0       0       0  ...                 0               0   \n",
       "\n",
       "    veh_body_MIBUS  veh_body_PANVN  veh_body_RDSTR  veh_body_SEDAN  \\\n",
       "1                0               0               0               0   \n",
       "2                0               0               0               0   \n",
       "6                0               0               0               0   \n",
       "11               0               0               0               0   \n",
       "16               0               0               0               0   \n",
       "\n",
       "    veh_body_STNWG  veh_body_TRUCK  veh_body_UTE  claim  \n",
       "1                1               0             0      1  \n",
       "2                0               0             0      1  \n",
       "6                0               0             0      1  \n",
       "11               0               0             0      1  \n",
       "16               0               0             0      1  \n",
       "\n",
       "[5 rows x 24 columns]"
      ]
     },
     "execution_count": 67,
     "metadata": {},
     "output_type": "execute_result"
    }
   ],
   "source": [
    "claim_severity_test.head()"
   ]
  },
  {
   "cell_type": "code",
   "execution_count": 68,
   "metadata": {},
   "outputs": [],
   "source": [
    "X_reg_test=claim_severity_test.drop([\"claim\"],axis=1)\n",
    "predtest=gbrt.predict(X_reg_test)"
   ]
  },
  {
   "cell_type": "markdown",
   "metadata": {},
   "source": [
    "## We will have to do inverse transform of our predicted values so as to get the actual values as we performed log transform to remove skewness"
   ]
  },
  {
   "cell_type": "code",
   "execution_count": 69,
   "metadata": {},
   "outputs": [],
   "source": [
    "predtest=pd.DataFrame(predtest)\n",
    "predtest=predtest.apply(np.exp)"
   ]
  },
  {
   "cell_type": "markdown",
   "metadata": {},
   "source": [
    "# Finding lowest 10% of the prdecited claim customers"
   ]
  },
  {
   "cell_type": "code",
   "execution_count": 72,
   "metadata": {},
   "outputs": [],
   "source": [
    "n=math.floor(0.1*len(pred_test))\n",
    "Lowest=predtest.nsmallest(n,0)\n",
    "Lowest=Lowest.rename({0:'Claim_Severity'},axis=1)"
   ]
  },
  {
   "cell_type": "code",
   "execution_count": 73,
   "metadata": {},
   "outputs": [
    {
     "data": {
      "text/html": [
       "<div>\n",
       "<style scoped>\n",
       "    .dataframe tbody tr th:only-of-type {\n",
       "        vertical-align: middle;\n",
       "    }\n",
       "\n",
       "    .dataframe tbody tr th {\n",
       "        vertical-align: top;\n",
       "    }\n",
       "\n",
       "    .dataframe thead th {\n",
       "        text-align: right;\n",
       "    }\n",
       "</style>\n",
       "<table border=\"1\" class=\"dataframe\">\n",
       "  <thead>\n",
       "    <tr style=\"text-align: right;\">\n",
       "      <th></th>\n",
       "      <th>quote_number</th>\n",
       "      <th>gender</th>\n",
       "      <th>agecat</th>\n",
       "      <th>date_of_birth</th>\n",
       "      <th>credit_score</th>\n",
       "      <th>area</th>\n",
       "      <th>traffic_index</th>\n",
       "      <th>veh_age</th>\n",
       "      <th>veh_body</th>\n",
       "      <th>veh_value</th>\n",
       "      <th>Claim_Severity</th>\n",
       "    </tr>\n",
       "  </thead>\n",
       "  <tbody>\n",
       "    <tr>\n",
       "      <th>1123</th>\n",
       "      <td>56309410</td>\n",
       "      <td>M</td>\n",
       "      <td>NaN</td>\n",
       "      <td>8/30/1950</td>\n",
       "      <td>815.0</td>\n",
       "      <td>C</td>\n",
       "      <td>133.5</td>\n",
       "      <td>2</td>\n",
       "      <td>STNWG</td>\n",
       "      <td>3.432</td>\n",
       "      <td>132.227899</td>\n",
       "    </tr>\n",
       "    <tr>\n",
       "      <th>1056</th>\n",
       "      <td>41776956</td>\n",
       "      <td>F</td>\n",
       "      <td>4.0</td>\n",
       "      <td>5/11/1969</td>\n",
       "      <td>729.0</td>\n",
       "      <td>B</td>\n",
       "      <td>99.6</td>\n",
       "      <td>1</td>\n",
       "      <td>TRUCK</td>\n",
       "      <td>2.288</td>\n",
       "      <td>133.239452</td>\n",
       "    </tr>\n",
       "    <tr>\n",
       "      <th>1977</th>\n",
       "      <td>44245064</td>\n",
       "      <td>F</td>\n",
       "      <td>4.0</td>\n",
       "      <td>6/16/1967</td>\n",
       "      <td>657.0</td>\n",
       "      <td>C</td>\n",
       "      <td>147.0</td>\n",
       "      <td>4</td>\n",
       "      <td>HBACK</td>\n",
       "      <td>0.726</td>\n",
       "      <td>133.848812</td>\n",
       "    </tr>\n",
       "    <tr>\n",
       "      <th>1156</th>\n",
       "      <td>77155904</td>\n",
       "      <td>F</td>\n",
       "      <td>6.0</td>\n",
       "      <td>7/2/1934</td>\n",
       "      <td>846.0</td>\n",
       "      <td>A</td>\n",
       "      <td>116.9</td>\n",
       "      <td>4</td>\n",
       "      <td>SEDAN</td>\n",
       "      <td>0.506</td>\n",
       "      <td>135.097561</td>\n",
       "    </tr>\n",
       "    <tr>\n",
       "      <th>779</th>\n",
       "      <td>31595032</td>\n",
       "      <td>M</td>\n",
       "      <td>4.0</td>\n",
       "      <td>7/20/1969</td>\n",
       "      <td>810.0</td>\n",
       "      <td>A</td>\n",
       "      <td>47.3</td>\n",
       "      <td>2</td>\n",
       "      <td>HBACK</td>\n",
       "      <td>1.782</td>\n",
       "      <td>137.433688</td>\n",
       "    </tr>\n",
       "  </tbody>\n",
       "</table>\n",
       "</div>"
      ],
      "text/plain": [
       "      quote_number gender  agecat date_of_birth  credit_score area  \\\n",
       "1123      56309410      M     NaN     8/30/1950         815.0    C   \n",
       "1056      41776956      F     4.0     5/11/1969         729.0    B   \n",
       "1977      44245064      F     4.0     6/16/1967         657.0    C   \n",
       "1156      77155904      F     6.0      7/2/1934         846.0    A   \n",
       "779       31595032      M     4.0     7/20/1969         810.0    A   \n",
       "\n",
       "      traffic_index  veh_age veh_body  veh_value  Claim_Severity  \n",
       "1123          133.5        2    STNWG      3.432      132.227899  \n",
       "1056           99.6        1    TRUCK      2.288      133.239452  \n",
       "1977          147.0        4    HBACK      0.726      133.848812  \n",
       "1156          116.9        4    SEDAN      0.506      135.097561  \n",
       "779            47.3        2    HBACK      1.782      137.433688  "
      ]
     },
     "execution_count": 73,
     "metadata": {},
     "output_type": "execute_result"
    }
   ],
   "source": [
    "CustomerClaims=df_2018.join(Lowest,how='right')\n",
    "CustomerClaims.head()"
   ]
  },
  {
   "cell_type": "markdown",
   "metadata": {},
   "source": [
    "# Generating Risk Profile based on probability of claim"
   ]
  },
  {
   "cell_type": "code",
   "execution_count": 74,
   "metadata": {},
   "outputs": [],
   "source": [
    "RiskProfile=df_2018.copy()\n",
    "RiskProfile[\"ClaimProb\"]=Low.claim_prob"
   ]
  },
  {
   "cell_type": "code",
   "execution_count": 75,
   "metadata": {},
   "outputs": [],
   "source": [
    "def risk(X):\n",
    "    \n",
    "    \"\"\" Functions generates Risk profile based on probability of claim\n",
    "            and gives out 3 profiles, Low, Medium and High\"\"\"\n",
    "    \n",
    "    risk=[]\n",
    "    if X<0.166:\n",
    "        risk=\"Low\"\n",
    "    elif 0.166<=X<0.4:\n",
    "        risk=\"Medium\"\n",
    "    else:\n",
    "        risk=\"High\"\n",
    "    return(risk)\n",
    "RiskProfile[\"Risk\"]=RiskProfile.ClaimProb.apply(risk)"
   ]
  },
  {
   "cell_type": "code",
   "execution_count": 76,
   "metadata": {},
   "outputs": [
    {
     "data": {
      "image/png": "[encoded data removed]",
      "text/plain": [
       "<matplotlib.figure.Figure at 0x1a25fdab00>"
      ]
     },
     "metadata": {},
     "output_type": "display_data"
    }
   ],
   "source": [
    "fig, ax1 = plt.subplots()\n",
    "fig.set_size_inches(12,4)\n",
    "g = sns.countplot(x='Risk',data=RiskProfile)\n",
    "title = g.set_title('Risk Count 2018 Customers')"
   ]
  },
  {
   "cell_type": "code",
   "execution_count": null,
   "metadata": {},
   "outputs": [],
   "source": [
    "RiskProfile.to_csv(\"finall.csv\")"
   ]
  }
 ],
 "metadata": {
  "kernelspec": {
   "display_name": "Python 3",
   "language": "python",
   "name": "python3"
  },
  "language_info": {
   "codemirror_mode": {
    "name": "ipython",
    "version": 3
   },
   "file_extension": ".py",
   "mimetype": "text/x-python",
   "name": "python",
   "nbconvert_exporter": "python",
   "pygments_lexer": "ipython3",
   "version": "3.6.4"
  }
 },
 "nbformat": 4,
 "nbformat_minor": 2
}
